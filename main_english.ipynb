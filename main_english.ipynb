{
  "cells": [
    {
      "cell_type": "markdown",
      "metadata": {},
      "source": [
        "\n",
        "# Comparative study of the introduction of white noise and the $L_2$ regularization\n"
      ]
    },
    {
      "cell_type": "markdown",
      "metadata": {},
      "source": [
        "\n",
        "Developed by: Fernanda Avendaño, Diego Quezada and Kevin Reyes.\n"
      ]
    },
    {
      "cell_type": "markdown",
      "metadata": {},
      "source": [
        "\n",
        "## 1. Hypothesis\n",
        "\n",
        " We know that training a linear model by adding white noise to the attributes is mathematically equivalent to using the $L_2$ regularizer. In practice, however, the first method is much more effective.\n"
      ]
    },
    {
      "cell_type": "markdown",
      "metadata": {},
      "source": [
        "\n",
        "## 2. Introduction\n",
        "\n",
        " In order to better understand this research, it is axiomatic to understand the following concepts:\n",
        "1.  Regularization $L_{2}$: Also known as Ridge regularization, it is a penalty that seeks to proportionally reduce the value of the coefficients of the model, in such a way that by reducing these, the correlation between the attributes is minimized and obtain a better generalization and therefore reduce the associated overfitting.\n",
        "1.  White noise: It is a disturbance generated from a probability distribution centered at 0.\n",
        "\n",
        " In this research we will study the difference in performance between training a model using $L_2$ regularization and training a model on noisy data.\n",
        "\n",
        " The main motivation of this research is to discover the implications of white noise and $L_2$ regularization in the generalization capacity of linear regression models, as well as to empirically demonstrate the relationship between white noise and $L_2 regularization $ described in (1).\n"
      ]
    },
    {
      "cell_type": "markdown",
      "metadata": {},
      "source": [
        "\n",
        "## 3. Methodology\n",
        "\n",
        " The methodology that will allow us to gather evidence to test the hypothesis described above is as follows:\n",
        "\n",
        " For each dataset, repeat the following procedure $n$ times starting from step 2 with a constant standard deviation $\\sigma$ for white noise:\n",
        "1.  Define a training and test set. To guarantee reproducibility, the same training and testing set is used throughout the $n$ iterations for each dataset.\n",
        "1.  Define a noisy training set.\n",
        "1.  Define a $\\lambda$ value for the regularization.\n",
        "1.  Train linear regressor 1 on the noisy training set.\n",
        "1.  Train linear regressor 2 on the original training set using L2 regularization with parameter $\\lambda$.\n",
        "1.  Calculate the root mean square error associated with each regressor.\n",
        "1.  Store both errors.\n"
      ]
    },
    {
      "cell_type": "markdown",
      "metadata": {},
      "source": [
        "\n",
        "## 4. Computational simulation\n"
      ]
    },
    {
      "cell_type": "markdown",
      "metadata": {},
      "source": [
        "\n",
        "### 4.1 Importing libraries\n"
      ]
    },
    {
      "cell_type": "code",
      "execution_count": 1,
      "metadata": {},
      "outputs": [],
      "source": [
        "import numpy as np\n",
        "import pandas as pd\n",
        "from sklearn.model_selection import train_test_split\n",
        "from sklearn.linear_model import LinearRegression\n",
        "from sklearn.linear_model import Ridge\n",
        "from sklearn.metrics import mean_squared_error\n"
      ]
    },
    {
      "cell_type": "code",
      "execution_count": 2,
      "metadata": {},
      "outputs": [],
      "source": [
        "import matplotlib.pyplot as plt\n",
        "%matplotlib inline\n",
        "import seaborn as sns\n",
        "%load_ext autoreload\n",
        "%autoreload 2\n",
        "from styles import *\n"
      ]
    },
    {
      "cell_type": "markdown",
      "metadata": {},
      "source": [
        "\n",
        "We will work with the following three datasets:\n",
        "1.  [Red Wine Quality](https://www.kaggle.com/uciml/red-wine-quality-cortez-et-al-2009) : This dataset contains 1599 records of 11 physical-chemical properties that seek to explain the quality of \"Vinho Verde\" wine.\n",
        "1.  [Real estate](https://www.kaggle.com/quantbruce/real-estate-price-prediction) : This data set contains 414 records of 7 characteristics that seek to predict the value of real estate.\n",
        "1.  [Graduate Admission 2](https://www.kaggle.com/mohansacharya/graduate-admissions) : This data set contains 400 records of 8 characteristics that seek to predict the probability of admission to master&#39;s programs.\n"
      ]
    },
    {
      "cell_type": "code",
      "execution_count": 3,
      "metadata": {},
      "outputs": [],
      "source": [
        "wine_quality = pd.read_csv(\"./datasets/wine_quality.csv\")\n"
      ]
    },
    {
      "cell_type": "code",
      "execution_count": 4,
      "metadata": {},
      "outputs": [],
      "source": [
        "real_estate = pd.read_csv(\"./datasets/real_estate.csv\")\n"
      ]
    },
    {
      "cell_type": "code",
      "execution_count": 5,
      "metadata": {},
      "outputs": [],
      "source": [
        "admission = pd.read_csv(\"./datasets/admission.csv\")\n"
      ]
    },
    {
      "cell_type": "markdown",
      "metadata": {},
      "source": [
        "\n",
        "### 4.3 Brief exploration\n"
      ]
    },
    {
      "cell_type": "markdown",
      "metadata": {},
      "source": [
        "\n",
        "Using the `head` we can see a sample of data from each dataset:\n"
      ]
    },
    {
      "cell_type": "code",
      "execution_count": 6,
      "metadata": {},
      "outputs": [
        {
          "data": {
            "text/html": [
              "<div>\n",
              "<style scoped>\n",
              "    .dataframe tbody tr th:only-of-type {\n",
              "        vertical-align: middle;\n",
              "    }\n",
              "\n",
              "    .dataframe tbody tr th {\n",
              "        vertical-align: top;\n",
              "    }\n",
              "\n",
              "    .dataframe thead th {\n",
              "        text-align: right;\n",
              "    }\n",
              "</style>\n",
              "<table border=\"1\" class=\"dataframe\">\n",
              "  <thead>\n",
              "    <tr style=\"text-align: right;\">\n",
              "      <th></th>\n",
              "      <th>fixed acidity</th>\n",
              "      <th>volatile acidity</th>\n",
              "      <th>citric acid</th>\n",
              "      <th>residual sugar</th>\n",
              "      <th>chlorides</th>\n",
              "      <th>free sulfur dioxide</th>\n",
              "      <th>total sulfur dioxide</th>\n",
              "      <th>density</th>\n",
              "      <th>pH</th>\n",
              "      <th>sulphates</th>\n",
              "      <th>alcohol</th>\n",
              "      <th>quality</th>\n",
              "    </tr>\n",
              "  </thead>\n",
              "  <tbody>\n",
              "    <tr>\n",
              "      <th>0</th>\n",
              "      <td>7.4</td>\n",
              "      <td>0.70</td>\n",
              "      <td>0.00</td>\n",
              "      <td>1.9</td>\n",
              "      <td>0.076</td>\n",
              "      <td>11.0</td>\n",
              "      <td>34.0</td>\n",
              "      <td>0.9978</td>\n",
              "      <td>3.51</td>\n",
              "      <td>0.56</td>\n",
              "      <td>9.4</td>\n",
              "      <td>5</td>\n",
              "    </tr>\n",
              "    <tr>\n",
              "      <th>1</th>\n",
              "      <td>7.8</td>\n",
              "      <td>0.88</td>\n",
              "      <td>0.00</td>\n",
              "      <td>2.6</td>\n",
              "      <td>0.098</td>\n",
              "      <td>25.0</td>\n",
              "      <td>67.0</td>\n",
              "      <td>0.9968</td>\n",
              "      <td>3.20</td>\n",
              "      <td>0.68</td>\n",
              "      <td>9.8</td>\n",
              "      <td>5</td>\n",
              "    </tr>\n",
              "    <tr>\n",
              "      <th>2</th>\n",
              "      <td>7.8</td>\n",
              "      <td>0.76</td>\n",
              "      <td>0.04</td>\n",
              "      <td>2.3</td>\n",
              "      <td>0.092</td>\n",
              "      <td>15.0</td>\n",
              "      <td>54.0</td>\n",
              "      <td>0.9970</td>\n",
              "      <td>3.26</td>\n",
              "      <td>0.65</td>\n",
              "      <td>9.8</td>\n",
              "      <td>5</td>\n",
              "    </tr>\n",
              "    <tr>\n",
              "      <th>3</th>\n",
              "      <td>11.2</td>\n",
              "      <td>0.28</td>\n",
              "      <td>0.56</td>\n",
              "      <td>1.9</td>\n",
              "      <td>0.075</td>\n",
              "      <td>17.0</td>\n",
              "      <td>60.0</td>\n",
              "      <td>0.9980</td>\n",
              "      <td>3.16</td>\n",
              "      <td>0.58</td>\n",
              "      <td>9.8</td>\n",
              "      <td>6</td>\n",
              "    </tr>\n",
              "    <tr>\n",
              "      <th>4</th>\n",
              "      <td>7.4</td>\n",
              "      <td>0.70</td>\n",
              "      <td>0.00</td>\n",
              "      <td>1.9</td>\n",
              "      <td>0.076</td>\n",
              "      <td>11.0</td>\n",
              "      <td>34.0</td>\n",
              "      <td>0.9978</td>\n",
              "      <td>3.51</td>\n",
              "      <td>0.56</td>\n",
              "      <td>9.4</td>\n",
              "      <td>5</td>\n",
              "    </tr>\n",
              "  </tbody>\n",
              "</table>\n",
              "</div>"
            ],
            "text/plain": [
              "   fixed acidity  volatile acidity  citric acid  residual sugar  chlorides  \\\n",
              "0            7.4              0.70         0.00             1.9      0.076   \n",
              "1            7.8              0.88         0.00             2.6      0.098   \n",
              "2            7.8              0.76         0.04             2.3      0.092   \n",
              "3           11.2              0.28         0.56             1.9      0.075   \n",
              "4            7.4              0.70         0.00             1.9      0.076   \n",
              "\n",
              "   free sulfur dioxide  total sulfur dioxide  density    pH  sulphates  \\\n",
              "0                 11.0                  34.0   0.9978  3.51       0.56   \n",
              "1                 25.0                  67.0   0.9968  3.20       0.68   \n",
              "2                 15.0                  54.0   0.9970  3.26       0.65   \n",
              "3                 17.0                  60.0   0.9980  3.16       0.58   \n",
              "4                 11.0                  34.0   0.9978  3.51       0.56   \n",
              "\n",
              "   alcohol  quality  \n",
              "0      9.4        5  \n",
              "1      9.8        5  \n",
              "2      9.8        5  \n",
              "3      9.8        6  \n",
              "4      9.4        5  "
            ]
          },
          "execution_count": 6,
          "metadata": {},
          "output_type": "execute_result"
        }
      ],
      "source": [
        "wine_quality.head()\n"
      ]
    },
    {
      "cell_type": "code",
      "execution_count": 7,
      "metadata": {},
      "outputs": [
        {
          "data": {
            "text/html": [
              "<div>\n",
              "<style scoped>\n",
              "    .dataframe tbody tr th:only-of-type {\n",
              "        vertical-align: middle;\n",
              "    }\n",
              "\n",
              "    .dataframe tbody tr th {\n",
              "        vertical-align: top;\n",
              "    }\n",
              "\n",
              "    .dataframe thead th {\n",
              "        text-align: right;\n",
              "    }\n",
              "</style>\n",
              "<table border=\"1\" class=\"dataframe\">\n",
              "  <thead>\n",
              "    <tr style=\"text-align: right;\">\n",
              "      <th></th>\n",
              "      <th>No</th>\n",
              "      <th>X1 transaction date</th>\n",
              "      <th>X2 house age</th>\n",
              "      <th>X3 distance to the nearest MRT station</th>\n",
              "      <th>X4 number of convenience stores</th>\n",
              "      <th>X5 latitude</th>\n",
              "      <th>X6 longitude</th>\n",
              "      <th>Y house price of unit area</th>\n",
              "    </tr>\n",
              "  </thead>\n",
              "  <tbody>\n",
              "    <tr>\n",
              "      <th>0</th>\n",
              "      <td>1</td>\n",
              "      <td>2012.917</td>\n",
              "      <td>32.0</td>\n",
              "      <td>84.87882</td>\n",
              "      <td>10</td>\n",
              "      <td>24.98298</td>\n",
              "      <td>121.54024</td>\n",
              "      <td>37.9</td>\n",
              "    </tr>\n",
              "    <tr>\n",
              "      <th>1</th>\n",
              "      <td>2</td>\n",
              "      <td>2012.917</td>\n",
              "      <td>19.5</td>\n",
              "      <td>306.59470</td>\n",
              "      <td>9</td>\n",
              "      <td>24.98034</td>\n",
              "      <td>121.53951</td>\n",
              "      <td>42.2</td>\n",
              "    </tr>\n",
              "    <tr>\n",
              "      <th>2</th>\n",
              "      <td>3</td>\n",
              "      <td>2013.583</td>\n",
              "      <td>13.3</td>\n",
              "      <td>561.98450</td>\n",
              "      <td>5</td>\n",
              "      <td>24.98746</td>\n",
              "      <td>121.54391</td>\n",
              "      <td>47.3</td>\n",
              "    </tr>\n",
              "    <tr>\n",
              "      <th>3</th>\n",
              "      <td>4</td>\n",
              "      <td>2013.500</td>\n",
              "      <td>13.3</td>\n",
              "      <td>561.98450</td>\n",
              "      <td>5</td>\n",
              "      <td>24.98746</td>\n",
              "      <td>121.54391</td>\n",
              "      <td>54.8</td>\n",
              "    </tr>\n",
              "    <tr>\n",
              "      <th>4</th>\n",
              "      <td>5</td>\n",
              "      <td>2012.833</td>\n",
              "      <td>5.0</td>\n",
              "      <td>390.56840</td>\n",
              "      <td>5</td>\n",
              "      <td>24.97937</td>\n",
              "      <td>121.54245</td>\n",
              "      <td>43.1</td>\n",
              "    </tr>\n",
              "  </tbody>\n",
              "</table>\n",
              "</div>"
            ],
            "text/plain": [
              "   No  X1 transaction date  X2 house age  \\\n",
              "0   1             2012.917          32.0   \n",
              "1   2             2012.917          19.5   \n",
              "2   3             2013.583          13.3   \n",
              "3   4             2013.500          13.3   \n",
              "4   5             2012.833           5.0   \n",
              "\n",
              "   X3 distance to the nearest MRT station  X4 number of convenience stores  \\\n",
              "0                                84.87882                               10   \n",
              "1                               306.59470                                9   \n",
              "2                               561.98450                                5   \n",
              "3                               561.98450                                5   \n",
              "4                               390.56840                                5   \n",
              "\n",
              "   X5 latitude  X6 longitude  Y house price of unit area  \n",
              "0     24.98298     121.54024                        37.9  \n",
              "1     24.98034     121.53951                        42.2  \n",
              "2     24.98746     121.54391                        47.3  \n",
              "3     24.98746     121.54391                        54.8  \n",
              "4     24.97937     121.54245                        43.1  "
            ]
          },
          "execution_count": 7,
          "metadata": {},
          "output_type": "execute_result"
        }
      ],
      "source": [
        "real_estate.head()\n"
      ]
    },
    {
      "cell_type": "code",
      "execution_count": 8,
      "metadata": {},
      "outputs": [
        {
          "data": {
            "text/html": [
              "<div>\n",
              "<style scoped>\n",
              "    .dataframe tbody tr th:only-of-type {\n",
              "        vertical-align: middle;\n",
              "    }\n",
              "\n",
              "    .dataframe tbody tr th {\n",
              "        vertical-align: top;\n",
              "    }\n",
              "\n",
              "    .dataframe thead th {\n",
              "        text-align: right;\n",
              "    }\n",
              "</style>\n",
              "<table border=\"1\" class=\"dataframe\">\n",
              "  <thead>\n",
              "    <tr style=\"text-align: right;\">\n",
              "      <th></th>\n",
              "      <th>Serial No.</th>\n",
              "      <th>GRE Score</th>\n",
              "      <th>TOEFL Score</th>\n",
              "      <th>University Rating</th>\n",
              "      <th>SOP</th>\n",
              "      <th>LOR</th>\n",
              "      <th>CGPA</th>\n",
              "      <th>Research</th>\n",
              "      <th>Chance of Admit</th>\n",
              "    </tr>\n",
              "  </thead>\n",
              "  <tbody>\n",
              "    <tr>\n",
              "      <th>0</th>\n",
              "      <td>1</td>\n",
              "      <td>337</td>\n",
              "      <td>118</td>\n",
              "      <td>4</td>\n",
              "      <td>4.5</td>\n",
              "      <td>4.5</td>\n",
              "      <td>9.65</td>\n",
              "      <td>1</td>\n",
              "      <td>0.92</td>\n",
              "    </tr>\n",
              "    <tr>\n",
              "      <th>1</th>\n",
              "      <td>2</td>\n",
              "      <td>324</td>\n",
              "      <td>107</td>\n",
              "      <td>4</td>\n",
              "      <td>4.0</td>\n",
              "      <td>4.5</td>\n",
              "      <td>8.87</td>\n",
              "      <td>1</td>\n",
              "      <td>0.76</td>\n",
              "    </tr>\n",
              "    <tr>\n",
              "      <th>2</th>\n",
              "      <td>3</td>\n",
              "      <td>316</td>\n",
              "      <td>104</td>\n",
              "      <td>3</td>\n",
              "      <td>3.0</td>\n",
              "      <td>3.5</td>\n",
              "      <td>8.00</td>\n",
              "      <td>1</td>\n",
              "      <td>0.72</td>\n",
              "    </tr>\n",
              "    <tr>\n",
              "      <th>3</th>\n",
              "      <td>4</td>\n",
              "      <td>322</td>\n",
              "      <td>110</td>\n",
              "      <td>3</td>\n",
              "      <td>3.5</td>\n",
              "      <td>2.5</td>\n",
              "      <td>8.67</td>\n",
              "      <td>1</td>\n",
              "      <td>0.80</td>\n",
              "    </tr>\n",
              "    <tr>\n",
              "      <th>4</th>\n",
              "      <td>5</td>\n",
              "      <td>314</td>\n",
              "      <td>103</td>\n",
              "      <td>2</td>\n",
              "      <td>2.0</td>\n",
              "      <td>3.0</td>\n",
              "      <td>8.21</td>\n",
              "      <td>0</td>\n",
              "      <td>0.65</td>\n",
              "    </tr>\n",
              "  </tbody>\n",
              "</table>\n",
              "</div>"
            ],
            "text/plain": [
              "   Serial No.  GRE Score  TOEFL Score  University Rating  SOP  LOR   CGPA  \\\n",
              "0           1        337          118                  4  4.5   4.5  9.65   \n",
              "1           2        324          107                  4  4.0   4.5  8.87   \n",
              "2           3        316          104                  3  3.0   3.5  8.00   \n",
              "3           4        322          110                  3  3.5   2.5  8.67   \n",
              "4           5        314          103                  2  2.0   3.0  8.21   \n",
              "\n",
              "   Research  Chance of Admit   \n",
              "0         1              0.92  \n",
              "1         1              0.76  \n",
              "2         1              0.72  \n",
              "3         1              0.80  \n",
              "4         0              0.65  "
            ]
          },
          "execution_count": 8,
          "metadata": {},
          "output_type": "execute_result"
        }
      ],
      "source": [
        "admission.head()\n"
      ]
    },
    {
      "cell_type": "markdown",
      "metadata": {},
      "source": [
        "\n",
        "No NaN values are present in any dataset:\n"
      ]
    },
    {
      "cell_type": "code",
      "execution_count": 9,
      "metadata": {},
      "outputs": [
        {
          "name": "stdout",
          "output_type": "stream",
          "text": [
            "False False False\n"
          ]
        }
      ],
      "source": [
        "print(\n",
        "    wine_quality.isnull().values.any(),\n",
        "    real_estate.isnull().values.any(),\n",
        "    admission.isnull().values.any(),\n",
        ")\n"
      ]
    },
    {
      "cell_type": "markdown",
      "metadata": {},
      "source": [
        "\n",
        "### 4.2 Sample generation\n"
      ]
    },
    {
      "cell_type": "markdown",
      "metadata": {},
      "source": [
        "\n",
        "The set of features and target to be used for each of the datasets is defined below:\n"
      ]
    },
    {
      "cell_type": "code",
      "execution_count": 10,
      "metadata": {},
      "outputs": [],
      "source": [
        "data = {\n",
        "    \"wine_quality\": (\n",
        "        [\n",
        "            \"fixed acidity\",\n",
        "            \"volatile acidity\",\n",
        "            \"citric acid\",\n",
        "            \"residual sugar\",\n",
        "            \"chlorides\",\n",
        "            \"free sulfur dioxide\",\n",
        "            \"total sulfur dioxide\",\n",
        "            \"density\",\n",
        "            \"pH\",\n",
        "            \"sulphates\",\n",
        "            \"alcohol\",\n",
        "        ],\n",
        "        \"quality\",\n",
        "    ),\n",
        "    \"real_estate\": (\n",
        "        [\n",
        "            \"No\",\n",
        "            \"X1 transaction date\",\n",
        "            \"X2 house age\",\n",
        "            \"X3 distance to the nearest MRT station\",\n",
        "            \"X4 number of convenience stores\",\n",
        "            \"X5 latitude\",\n",
        "            \"X6 longitude\",\n",
        "        ],\n",
        "        \"Y house price of unit area\",\n",
        "    ),\n",
        "    \"admission\": (\n",
        "        [\n",
        "            \"GRE Score\",\n",
        "            \"TOEFL Score\",\n",
        "            \"University Rating\",\n",
        "            \"SOP\",\n",
        "            \"LOR \",\n",
        "            \"CGPA\",\n",
        "            \"Research\",\n",
        "        ],\n",
        "        \"Chance of Admit \",\n",
        "    ),\n",
        "}\n"
      ]
    },
    {
      "cell_type": "markdown",
      "metadata": {},
      "source": [
        "\n",
        "The `add_noise` function is responsible for applying a Gaussian noise to the `features` columns of the `dataset` dataframe. We will apply a noise centered at 0 and with the same variance to each of the attributes as indicated in (2):\n"
      ]
    },
    {
      "cell_type": "code",
      "execution_count": 11,
      "metadata": {},
      "outputs": [],
      "source": [
        "def add_noise(dataset, features, sigma):\n",
        "    for i, feature in enumerate(features):\n",
        "        dataset[feature] = dataset[feature].apply(\n",
        "            lambda x: x + sigma * np.random.randn()\n",
        "        )\n",
        "    return dataset\n"
      ]
    },
    {
      "cell_type": "markdown",
      "metadata": {},
      "source": [
        "\n",
        "The `generate_sample` function is responsible for generating the error data indicated in step 5 of our methodology:\n"
      ]
    },
    {
      "cell_type": "code",
      "execution_count": 12,
      "metadata": {},
      "outputs": [],
      "source": [
        "def generate_sample(datasets, data, x_limits, n=5):\n",
        "    errors = dict()\n",
        "    sigma = 2\n",
        "    for i, (name, dataset) in enumerate(datasets.items()):\n",
        "        alphas = np.linspace(0, x_limits[i], n)\n",
        "        training_data = {\"sigmas\": [], \"lambdas\": [], \"noisy_error\": [], \"l2_error\": []}\n",
        "        # Paso 1\n",
        "        X_train, X_val, y_train, y_val = train_test_split(\n",
        "            dataset[data[name][0]],\n",
        "            dataset[data[name][1]],\n",
        "            test_size=0.6,\n",
        "            random_state=21,\n",
        "        )\n",
        "        for i in range(n):\n",
        "            # Paso 2\n",
        "            X_train_noisy = add_noise(X_train.copy(), data[name][0], sigma)\n",
        "            # Paso 3\n",
        "            alpha = alphas[i]\n",
        "            # Paso 4\n",
        "            noisy_model = LinearRegression()\n",
        "            noisy_model = noisy_model.fit(X_train_noisy, y_train)\n",
        "            # Paso 5\n",
        "            l2_model = Ridge(alpha=alpha)\n",
        "            l2_model = l2_model.fit(X_train, y_train)\n",
        "            # Paso 6\n",
        "            noisy_predict = noisy_model.predict(X_val)\n",
        "            l2_predict = l2_model.predict(X_val)\n",
        "            noisy_error = mean_squared_error(y_val, noisy_predict)\n",
        "            l2_error = mean_squared_error(y_val, l2_predict)\n",
        "            # Paso 7\n",
        "            training_data[\"sigmas\"].append(sigma)\n",
        "            training_data[\"lambdas\"].append(alpha)\n",
        "            training_data[\"noisy_error\"].append(noisy_error)\n",
        "            training_data[\"l2_error\"].append(l2_error)\n",
        "        errors[name] = training_data\n",
        "    return errors\n"
      ]
    },
    {
      "cell_type": "code",
      "execution_count": 13,
      "metadata": {},
      "outputs": [],
      "source": [
        "datasets_dict = {\n",
        "    \"wine_quality\": wine_quality,\n",
        "    \"real_estate\": real_estate,\n",
        "    \"admission\": admission,\n",
        "}\n"
      ]
    },
    {
      "cell_type": "markdown",
      "metadata": {},
      "source": [
        "\n",
        "The data associated with the computational simulation is generated below:\n"
      ]
    },
    {
      "cell_type": "code",
      "execution_count": 14,
      "metadata": {},
      "outputs": [],
      "source": [
        "errors = generate_sample(datasets_dict, data, x_limits=[10000, 2000, 2000], n=100)\n"
      ]
    },
    {
      "cell_type": "markdown",
      "metadata": {},
      "source": [
        "\n",
        "Then, we get the average error per dataset for each of the models (noisy and l2):\n"
      ]
    },
    {
      "cell_type": "code",
      "execution_count": 15,
      "metadata": {},
      "outputs": [],
      "source": [
        "def get_mean_error_per_dataset(errors, datasets):\n",
        "    mean_errors = list()\n",
        "    for dataset in datasets.keys():\n",
        "        mean_errors.append(\n",
        "            [\n",
        "                np.mean(errors[dataset][\"noisy_error\"]),\n",
        "                np.mean(errors[dataset][\"l2_error\"]),\n",
        "            ]\n",
        "        )\n",
        "    return mean_errors\n"
      ]
    },
    {
      "cell_type": "code",
      "execution_count": 16,
      "metadata": {},
      "outputs": [],
      "source": [
        "mean_errors = get_mean_error_per_dataset(errors, datasets_dict)\n"
      ]
    },
    {
      "cell_type": "code",
      "execution_count": 17,
      "metadata": {},
      "outputs": [
        {
          "data": {
            "text/plain": [
              "[[0.583110810975046, 0.5892437400838518],\n",
              " [78.57300030895344, 78.96957613779314],\n",
              " [0.005961246498355441, 0.0059768887653140436]]"
            ]
          },
          "execution_count": 17,
          "metadata": {},
          "output_type": "execute_result"
        }
      ],
      "source": [
        "mean_errors\n"
      ]
    },
    {
      "cell_type": "markdown",
      "metadata": {},
      "source": [
        "\n",
        "Finally, graphs are presented where the values of $\\lambda$ are shown such that the performance between the model with regularization $L_2$ and the model with noisy features is equal (the difference of their errors is 0) :\n"
      ]
    },
    {
      "cell_type": "code",
      "execution_count": 18,
      "metadata": {},
      "outputs": [],
      "source": [
        "def plot_scatter(x, y, title=\"\", figsize=(10, 4), xlabel=\"x\", ylabel=\"y\"):\n",
        "    fig = plt.figure(figsize=figsize)\n",
        "    ax = plt.axes()\n",
        "    ax.plot(x, y, \"o\")\n",
        "    ax.set_title(title)\n",
        "    ax.set_xlabel(xlabel)\n",
        "    ax.set_ylabel(ylabel)\n",
        "    plt.show()\n"
      ]
    },
    {
      "cell_type": "code",
      "execution_count": 19,
      "metadata": {},
      "outputs": [
        {
          "data": {
            "image/png": "[encoded data removed]",
            "text/plain": [
              "<Figure size 720x288 with 1 Axes>"
            ]
          },
          "metadata": {},
          "output_type": "display_data"
        }
      ],
      "source": [
        "dataset = \"wine_quality\"\n",
        "plot_scatter(\n",
        "    errors[dataset][\"lambdas\"],\n",
        "    np.array(errors[dataset][\"noisy_error\"]) - np.array(errors[dataset][\"l2_error\"]),\n",
        "    title=\"Wine Quality\",\n",
        "    xlabel=\"Lambda\",\n",
        "    ylabel=\"Diferencia de errores\",\n",
        ")\n"
      ]
    },
    {
      "cell_type": "code",
      "execution_count": 20,
      "metadata": {},
      "outputs": [
        {
          "data": {
            "image/png": "[encoded data removed]",
            "text/plain": [
              "<Figure size 720x288 with 1 Axes>"
            ]
          },
          "metadata": {},
          "output_type": "display_data"
        }
      ],
      "source": [
        "dataset = \"real_estate\"\n",
        "plot_scatter(\n",
        "    errors[dataset][\"lambdas\"],\n",
        "    np.array(errors[dataset][\"noisy_error\"]) - np.array(errors[dataset][\"l2_error\"]),\n",
        "    title=\"Real state\",\n",
        "    xlabel=\"Lambda\",\n",
        "    ylabel=\"Diferencia de errores\",\n",
        ")\n"
      ]
    },
    {
      "cell_type": "code",
      "execution_count": 21,
      "metadata": {},
      "outputs": [
        {
          "data": {
            "image/png": "[encoded data removed]",
            "text/plain": [
              "<Figure size 720x288 with 1 Axes>"
            ]
          },
          "metadata": {},
          "output_type": "display_data"
        }
      ],
      "source": [
        "dataset = \"admission\"\n",
        "plot_scatter(\n",
        "    errors[dataset][\"lambdas\"],\n",
        "    np.array(errors[dataset][\"noisy_error\"]) - np.array(errors[dataset][\"l2_error\"]),\n",
        "    title=\"Graduate Admission 2\",\n",
        "    xlabel=\"Lambda\",\n",
        "    ylabel=\"Diferencia de errores\",\n",
        ")\n"
      ]
    },
    {
      "cell_type": "markdown",
      "metadata": {},
      "source": [
        "\n",
        "### 4.3 Conclusions\n"
      ]
    },
    {
      "cell_type": "markdown",
      "metadata": {},
      "source": [
        "1. We reject the hypothesis: although the model trained with $L_2$ regularization has a higher MSE for the three datasets, the difference is minimal, so the average performance is practically the same.\n"
      ]
    },
    {
      "cell_type": "code",
      "execution_count": null,
      "metadata": {},
      "outputs": [
        {
          "name": "stdout",
          "output_type": "stream",
          "text": [
            "[True, True, True]\n"
          ]
        }
      ],
      "source": [
        "print([error[0] < error[1] for error in mean_errors])\n"
      ]
    },
    {
      "cell_type": "code",
      "execution_count": null,
      "metadata": {},
      "outputs": [
        {
          "name": "stdout",
          "output_type": "stream",
          "text": [
            "[0.006132929108805807, 0.3965758288397012, 1.5642266958602533e-05]\n"
          ]
        }
      ],
      "source": [
        "print([error[1] - error[0] for error in mean_errors])\n"
      ]
    },
    {
      "cell_type": "markdown",
      "metadata": {},
      "source": [
        "1. What is stated in (2) is verified experimentally: in the three datasets there are $\\lambda$ values such that the effectiveness of the models, measured through the MSE, is the same.\n"
      ]
    },
    {
      "cell_type": "markdown",
      "metadata": {},
      "source": [
        "\n",
        "### 4.4 References\n",
        "1.  Bishop CM. Training with Noise is Equivalent to Tikhonov Regularization. Neural Computation 7 No. 1 (1995).\n"
      ]
    }
  ],
  "metadata": {
    "language_info": {
      "name": "python"
    }
  },
  "nbformat": 4,
  "nbformat_minor": 1
}
